{
 "cells": [
  {
   "cell_type": "code",
   "execution_count": 1,
   "metadata": {},
   "outputs": [
    {
     "name": "stderr",
     "output_type": "stream",
     "text": [
      "/Users/hanzhe/anaconda3/lib/python3.7/site-packages/IPython/core/interactiveshell.py:3185: DtypeWarning: Columns (27) have mixed types. Specify dtype option on import or set low_memory=False.\n",
      "  if (yield from self.run_code(code, result)):\n"
     ]
    }
   ],
   "source": [
    "from dm_tools_dataprep import data_prep\n",
    "\n",
    "df = data_prep()"
   ]
  },
  {
   "cell_type": "code",
   "execution_count": 2,
   "metadata": {},
   "outputs": [
    {
     "name": "stdout",
     "output_type": "stream",
     "text": [
      "<class 'pandas.core.frame.DataFrame'>\n",
      "RangeIndex: 41476 entries, 0 to 41475\n",
      "Columns: 119 entries, VehYear to VNST_WV\n",
      "dtypes: float64(11), int64(2), uint8(106)\n",
      "memory usage: 8.3 MB\n",
      "None\n"
     ]
    }
   ],
   "source": [
    "print(df.info())"
   ]
  },
  {
   "cell_type": "code",
   "execution_count": 3,
   "metadata": {},
   "outputs": [],
   "source": [
    "from sklearn.model_selection import train_test_split"
   ]
  },
  {
   "cell_type": "code",
   "execution_count": 4,
   "metadata": {},
   "outputs": [
    {
     "name": "stderr",
     "output_type": "stream",
     "text": [
      "/Users/hanzhe/anaconda3/lib/python3.7/site-packages/IPython/core/interactiveshell.py:3185: DtypeWarning: Columns (27) have mixed types. Specify dtype option on import or set low_memory=False.\n",
      "  if (yield from self.run_code(code, result)):\n"
     ]
    }
   ],
   "source": [
    "# preprocessing step\n",
    "df = data_prep()\n",
    "\n",
    "# target/input split\n",
    "y = df['IsBadBuy']\n",
    "X = df.drop(['IsBadBuy'], axis=1)"
   ]
  },
  {
   "cell_type": "code",
   "execution_count": 5,
   "metadata": {},
   "outputs": [
    {
     "name": "stderr",
     "output_type": "stream",
     "text": [
      "/Users/hanzhe/anaconda3/lib/python3.7/site-packages/ipykernel_launcher.py:10: FutureWarning: Method .as_matrix will be removed in a future version. Use .values instead.\n",
      "  # Remove the CWD from sys.path while we load stuff.\n"
     ]
    }
   ],
   "source": [
    "# OverSampling\n",
    "\n",
    "from imblearn.over_sampling import RandomOverSampler\n",
    "from sklearn.neural_network import MLPClassifier\n",
    "from collections import Counter\n",
    "\n",
    "ros = RandomOverSampler(random_state=0)\n",
    "rs = 10\n",
    "\n",
    "X_mat = X.as_matrix()\n",
    "\n",
    "X_train, X_test, y_train, y_test = train_test_split(X_mat, y, test_size=0.2, stratify=y,random_state=rs)\n",
    "X_resampled, y_resampled = ros.fit_resample(X_train, y_train)"
   ]
  },
  {
   "cell_type": "code",
   "execution_count": 6,
   "metadata": {},
   "outputs": [
    {
     "data": {
      "text/plain": [
       "DecisionTreeClassifier(class_weight=None, criterion='gini', max_depth=None,\n",
       "            max_features=None, max_leaf_nodes=None,\n",
       "            min_impurity_decrease=0.0, min_impurity_split=None,\n",
       "            min_samples_leaf=1, min_samples_split=2,\n",
       "            min_weight_fraction_leaf=0.0, presort=False, random_state=10,\n",
       "            splitter='best')"
      ]
     },
     "execution_count": 6,
     "metadata": {},
     "output_type": "execute_result"
    }
   ],
   "source": [
    "# Oversampling tree training\n",
    "from sklearn.tree import DecisionTreeClassifier\n",
    "from sklearn.metrics import classification_report, accuracy_score\n",
    "\n",
    "model = DecisionTreeClassifier(random_state=rs)\n",
    "model.fit(X_resampled, y_resampled)"
   ]
  },
  {
   "cell_type": "code",
   "execution_count": 7,
   "metadata": {},
   "outputs": [
    {
     "name": "stdout",
     "output_type": "stream",
     "text": [
      "Train accuracy: 0.9994114184814596\n",
      "Test accuracy: 0.78351012536162\n",
      "              precision    recall  f1-score   support\n",
      "\n",
      "           0       0.88      0.87      0.87      7222\n",
      "           1       0.21      0.23      0.22      1074\n",
      "\n",
      "   micro avg       0.78      0.78      0.78      8296\n",
      "   macro avg       0.54      0.55      0.55      8296\n",
      "weighted avg       0.80      0.78      0.79      8296\n",
      "\n"
     ]
    }
   ],
   "source": [
    "print(\"Train accuracy:\", model.score(X_resampled, y_resampled))\n",
    "print(\"Test accuracy:\", model.score(X_test, y_test))\n",
    "y_pred2 = model.predict(X_test)\n",
    "print(classification_report(y_test, y_pred2))"
   ]
  },
  {
   "cell_type": "code",
   "execution_count": 8,
   "metadata": {},
   "outputs": [
    {
     "name": "stdout",
     "output_type": "stream",
     "text": [
      "Number of Nodes: 9159\n",
      "Number of Leaves 4580\n"
     ]
    }
   ],
   "source": [
    "# size of tree\n",
    "\n",
    "import numpy as np\n",
    "\n",
    "print(\"Number of Nodes:\", model.tree_.node_count)\n",
    "leave_id = model.apply(X_resampled)\n",
    "leave_id = np.unique(leave_id)\n",
    "print(\"Number of Leaves\", len(leave_id))"
   ]
  },
  {
   "cell_type": "code",
   "execution_count": 9,
   "metadata": {},
   "outputs": [
    {
     "name": "stdout",
     "output_type": "stream",
     "text": [
      "VehBCost : 0.1109254528086673\n",
      "MMRCurrentAuctionAveragePrice : 0.06543886773897936\n",
      "MMRCurrentRetailCleanPrice : 0.06418232935150114\n",
      "MMRAcquisitionAuctionCleanPrice : 0.062275288896206996\n",
      "MMRCurrentAuctionCleanPrice : 0.06132880579493668\n",
      "MMRAcquisitionRetailAveragePrice : 0.0601700677270838\n",
      "WarrantyCost : 0.059776884941303746\n",
      "MMRAcquisitonRetailCleanPrice : 0.056912316266853294\n",
      "MMRCurrentRetailAveragePrice : 0.05550784567068383\n",
      "VehYear : 0.05470128063820718\n",
      "MMRAcquisitionAuctionAveragePrice : 0.04752804140629372\n",
      "WheelType_Alloy : 0.021192289551479324\n",
      "Auction_MANHEIM : 0.014693399750707695\n",
      "VNST_FL : 0.00962534378630858\n",
      "VNST_TX : 0.008686836201866116\n",
      "Color_WHITE : 0.008632210753069804\n",
      "VNST_NC : 0.008361450309995121\n",
      "Color_BLUE : 0.007908524069466518\n",
      "VNST_CO : 0.007798832401680863\n",
      "Color_GOLD : 0.007623135312806776\n"
     ]
    }
   ],
   "source": [
    "# grab feature importances from the model and feature name from the original X\n",
    "\n",
    "import numpy as np\n",
    "\n",
    "importances = model.feature_importances_\n",
    "feature_names = X.columns\n",
    "\n",
    "# sort them out in descending order\n",
    "indices = np.argsort(importances)\n",
    "indices = np.flip(indices, axis=0)\n",
    "\n",
    "# limit to 20 features, you can leave this out to print out everything\n",
    "indices = indices[:20]\n",
    "\n",
    "for i in indices:\n",
    "    print(feature_names[i], ':', importances[i])"
   ]
  },
  {
   "cell_type": "code",
   "execution_count": 10,
   "metadata": {},
   "outputs": [],
   "source": [
    "# visualize\n",
    "\n",
    "import pydot\n",
    "from io import StringIO\n",
    "from sklearn.tree import export_graphviz\n",
    "\n",
    "dotfile = StringIO()\n",
    "export_graphviz(model, out_file=dotfile, feature_names=X.columns)\n",
    "graph = pydot.graph_from_dot_data(dotfile.getvalue())\n",
    "graph[0].write_png(\"OverSampledTree_1.png\")"
   ]
  },
  {
   "cell_type": "code",
   "execution_count": 11,
   "metadata": {},
   "outputs": [
    {
     "name": "stdout",
     "output_type": "stream",
     "text": [
      "Train accuracy: 0.6331059792957795\n",
      "Test accuracy: 0.563404050144648\n",
      "              precision    recall  f1-score   support\n",
      "\n",
      "           0       0.92      0.54      0.68      7222\n",
      "           1       0.18      0.69      0.29      1074\n",
      "\n",
      "   micro avg       0.56      0.56      0.56      8296\n",
      "   macro avg       0.55      0.62      0.49      8296\n",
      "weighted avg       0.83      0.56      0.63      8296\n",
      "\n"
     ]
    }
   ],
   "source": [
    "#retrain with a small max_depth limit\n",
    "\n",
    "model = DecisionTreeClassifier(max_depth=3, random_state=rs)\n",
    "model.fit(X_resampled, y_resampled)\n",
    "\n",
    "print(\"Train accuracy:\", model.score(X_resampled, y_resampled))\n",
    "print(\"Test accuracy:\", model.score(X_test, y_test))\n",
    "\n",
    "y_pred2 = model.predict(X_test)\n",
    "print(classification_report(y_test, y_pred2))"
   ]
  },
  {
   "cell_type": "code",
   "execution_count": 12,
   "metadata": {},
   "outputs": [
    {
     "name": "stdout",
     "output_type": "stream",
     "text": [
      "Number of Nodes: 15\n",
      "Number of Leaves 8\n"
     ]
    }
   ],
   "source": [
    "# size of tree\n",
    "\n",
    "import numpy as np\n",
    "\n",
    "print(\"Number of Nodes:\", model.tree_.node_count)\n",
    "leave_id = model.apply(X_resampled)\n",
    "leave_id = np.unique(leave_id)\n",
    "print(\"Number of Leaves\", len(leave_id))"
   ]
  },
  {
   "cell_type": "code",
   "execution_count": 13,
   "metadata": {},
   "outputs": [
    {
     "name": "stdout",
     "output_type": "stream",
     "text": [
      "VehYear : 0.4605046024782815\n",
      "WheelType_Alloy : 0.2180297346586578\n",
      "VehBCost : 0.15948810292002452\n",
      "Auction_MANHEIM : 0.09759878560795004\n",
      "WheelType_Covers : 0.06437877433508618\n",
      "Make_NISSAN : 0.0\n",
      "Make_OLDSMOBILE : 0.0\n",
      "Make_MITSUBISHI : 0.0\n",
      "Make_VOLKSWAGEN : 0.0\n",
      "Make_PONTIAC : 0.0\n",
      "Make_MINI : 0.0\n",
      "Make_SATURN : 0.0\n",
      "Make_SCION : 0.0\n",
      "Make_SUBARU : 0.0\n",
      "Make_MERCURY : 0.0\n",
      "Make_SUZUKI : 0.0\n",
      "Make_TOYOTA : 0.0\n",
      "Color_BEIGE : 0.0\n",
      "Make_VOLVO : 0.0\n",
      "Color_? : 0.0\n"
     ]
    }
   ],
   "source": [
    "# grab feature importance from the model and feature name from the original X\n",
    "importances = model.feature_importances_\n",
    "feature_names = X.columns\n",
    "\n",
    "# sort them out in descending order\n",
    "indices = np.argsort(importances)\n",
    "indices = np.flip(indices, axis=0)\n",
    "\n",
    "# limit to 20 features, you can leave this out to print out everything\n",
    "indices = indices[:20]\n",
    "\n",
    "for i in indices:\n",
    "    print(feature_names[i], ':', importances[i])\n",
    "\n",
    "# visualize\n",
    "dotfile = StringIO()\n",
    "export_graphviz(model, out_file=dotfile, feature_names=X.columns)\n",
    "graph = pydot.graph_from_dot_data(dotfile.getvalue())\n",
    "graph[0].write_png(\"OversampledTree_2.png\") # saved in the following file"
   ]
  },
  {
   "cell_type": "code",
   "execution_count": 14,
   "metadata": {},
   "outputs": [],
   "source": [
    "test_score = []\n",
    "train_score = []\n",
    "\n",
    "# check the model performance for max depth from 2-20\n",
    "for max_depth in range(2, 21):\n",
    "    model = DecisionTreeClassifier(max_depth=max_depth, random_state=rs)\n",
    "    model.fit(X_resampled, y_resampled)\n",
    "    \n",
    "    test_score.append(model.score(X_test, y_test))\n",
    "    train_score.append(model.score(X_resampled, y_resampled))"
   ]
  },
  {
   "cell_type": "code",
   "execution_count": 16,
   "metadata": {},
   "outputs": [
    {
     "data": {
      "image/png": "[encoded data removed]",
      "text/plain": [
       "<Figure size 432x288 with 1 Axes>"
      ]
     },
     "metadata": {
      "needs_background": "light"
     },
     "output_type": "display_data"
    }
   ],
   "source": [
    "import matplotlib.pyplot as plt\n",
    "\n",
    "# plot max depth hyperparameter values vs training and test accuracy score\n",
    "plt.plot(range(2, 21), train_score, 'b', range(2,21), test_score, 'r')\n",
    "plt.xlabel('max_depth\\nBlue = training acc. Red = test acc.')\n",
    "plt.ylabel('accuracy')\n",
    "plt.show()"
   ]
  },
  {
   "cell_type": "code",
   "execution_count": 19,
   "metadata": {},
   "outputs": [
    {
     "name": "stdout",
     "output_type": "stream",
     "text": [
      "Train accuracy: 0.7080808780251359\n",
      "Test accuracy: 0.649228543876567\n",
      "              precision    recall  f1-score   support\n",
      "\n",
      "           0       0.91      0.66      0.77      7222\n",
      "           1       0.20      0.57      0.30      1074\n",
      "\n",
      "   micro avg       0.65      0.65      0.65      8296\n",
      "   macro avg       0.56      0.62      0.53      8296\n",
      "weighted avg       0.82      0.65      0.71      8296\n",
      "\n",
      "Number of Nodes: 671\n",
      "Number of Leaves 336\n",
      "---------------------\n",
      "VehYear : 0.18127568958971066\n",
      "VehBCost : 0.1426563747250479\n",
      "WheelType_Alloy : 0.080480484761634\n",
      "MMRCurrentAuctionCleanPrice : 0.06405430639168028\n",
      "MMRCurrentAuctionAveragePrice : 0.059366807430138085\n",
      "MMRAcquisitonRetailCleanPrice : 0.05181643454819315\n",
      "Auction_MANHEIM : 0.047873294414385766\n",
      "MMRCurrentRetailCleanPrice : 0.04076959382702864\n",
      "WarrantyCost : 0.039643098743202154\n",
      "MMRAcquisitionAuctionCleanPrice : 0.036860223155080925\n",
      "MMRCurrentRetailAveragePrice : 0.0330394446762324\n",
      "MMRAcquisitionRetailAveragePrice : 0.028782620649845738\n",
      "WheelType_Covers : 0.02376389153965259\n",
      "MMRAcquisitionAuctionAveragePrice : 0.021007928114507933\n",
      "TopThreeAmericanName_GM : 0.010781444821540542\n",
      "VNST_OK : 0.009548711496928852\n",
      "VNST_NC : 0.009427957479354904\n",
      "Make_CHRYSLER : 0.008603317778395812\n",
      "Make_PONTIAC : 0.006687567090098468\n",
      "VNST_TX : 0.006205424010358001\n"
     ]
    }
   ],
   "source": [
    "#retrain with a guessing max_depth limit from the pyplot\n",
    "\n",
    "model = DecisionTreeClassifier(max_depth=9, random_state=rs)\n",
    "model.fit(X_resampled, y_resampled)\n",
    "\n",
    "print(\"Train accuracy:\", model.score(X_resampled, y_resampled))\n",
    "print(\"Test accuracy:\", model.score(X_test, y_test))\n",
    "\n",
    "y_pred2 = model.predict(X_test)\n",
    "print(classification_report(y_test, y_pred2))\n",
    "\n",
    "print(\"Number of Nodes:\", model.tree_.node_count)\n",
    "leave_id = model.apply(X_resampled)\n",
    "leave_id = np.unique(leave_id)\n",
    "print(\"Number of Leaves\", len(leave_id))\n",
    "\n",
    "print('---------------------')\n",
    "# grab feature importance from the model and feature name from the original X\n",
    "importances = model.feature_importances_\n",
    "feature_names = X.columns\n",
    "\n",
    "# sort them out in descending order\n",
    "indices = np.argsort(importances)\n",
    "indices = np.flip(indices, axis=0)\n",
    "\n",
    "# limit to 20 features, you can leave this out to print out everything\n",
    "indices = indices[:20]\n",
    "\n",
    "for i in indices:\n",
    "    print(feature_names[i], ':', importances[i])\n",
    "\n",
    "# visualize\n",
    "dotfile = StringIO()\n",
    "export_graphviz(model, out_file=dotfile, feature_names=X.columns)\n",
    "graph = pydot.graph_from_dot_data(dotfile.getvalue())\n",
    "graph[0].write_png(\"OversampledTree_3.png\") # saved in the following file"
   ]
  },
  {
   "cell_type": "code",
   "execution_count": 20,
   "metadata": {},
   "outputs": [],
   "source": [
    "from sklearn.model_selection import GridSearchCV"
   ]
  },
  {
   "cell_type": "code",
   "execution_count": 21,
   "metadata": {},
   "outputs": [
    {
     "name": "stdout",
     "output_type": "stream",
     "text": [
      "Train accuracy: 0.738704428210366\n",
      "Test accuracy: 0.6645371263259402\n",
      "              precision    recall  f1-score   support\n",
      "\n",
      "           0       0.91      0.68      0.78      7222\n",
      "           1       0.20      0.53      0.29      1074\n",
      "\n",
      "   micro avg       0.66      0.66      0.66      8296\n",
      "   macro avg       0.55      0.61      0.53      8296\n",
      "weighted avg       0.82      0.66      0.72      8296\n",
      "\n",
      "{'criterion': 'gini', 'max_depth': 11, 'min_samples_leaf': 20}\n"
     ]
    }
   ],
   "source": [
    "# grid search CV #1.1\n",
    "params = {'criterion': ['gini', 'entropy'],\n",
    "          'max_depth': range(2, 12),\n",
    "          'min_samples_leaf': range(20, 80, 10)}\n",
    "\n",
    "cv = GridSearchCV(param_grid=params, estimator=DecisionTreeClassifier(random_state=rs), cv=10)\n",
    "cv.fit(X_resampled, y_resampled)\n",
    "\n",
    "print(\"Train accuracy:\", cv.score(X_resampled, y_resampled))\n",
    "print(\"Test accuracy:\", cv.score(X_test, y_test))\n",
    "\n",
    "# test the best model\n",
    "y_pred2 = cv.predict(X_test)\n",
    "print(classification_report(y_test, y_pred2))\n",
    "\n",
    "# print parameters of the best model\n",
    "print(cv.best_params_)"
   ]
  },
  {
   "cell_type": "code",
   "execution_count": 26,
   "metadata": {},
   "outputs": [
    {
     "name": "stdout",
     "output_type": "stream",
     "text": [
      "Train accuracy: 0.6439774261676419\n",
      "Test accuracy: 0.5804001928640309\n",
      "              precision    recall  f1-score   support\n",
      "\n",
      "           0       0.92      0.57      0.70      7222\n",
      "           1       0.18      0.66      0.29      1074\n",
      "\n",
      "   micro avg       0.58      0.58      0.58      8296\n",
      "   macro avg       0.55      0.61      0.50      8296\n",
      "weighted avg       0.82      0.58      0.65      8296\n",
      "\n",
      "{'criterion': 'gini', 'max_depth': 5, 'min_samples_leaf': 30}\n"
     ]
    }
   ],
   "source": [
    "# grid search CV #1.2\n",
    "\n",
    "params = {'criterion': ['gini', 'entropy'],\n",
    "          'max_depth': range(2, 6),\n",
    "          'min_samples_leaf': range(20, 60, 10)}\n",
    "\n",
    "cv = GridSearchCV(param_grid=params, estimator=DecisionTreeClassifier(random_state=rs), cv=10)\n",
    "cv.fit(X_resampled, y_resampled)\n",
    "\n",
    "print(\"Train accuracy:\", cv.score(X_resampled, y_resampled))\n",
    "print(\"Test accuracy:\", cv.score(X_test, y_test))\n",
    "\n",
    "# test the best model\n",
    "y_pred2 = cv.predict(X_test)\n",
    "print(classification_report(y_test, y_pred2))\n",
    "\n",
    "# print parameters of the best model\n",
    "print(cv.best_params_)"
   ]
  },
  {
   "cell_type": "code",
   "execution_count": 27,
   "metadata": {},
   "outputs": [
    {
     "name": "stdout",
     "output_type": "stream",
     "text": [
      "Train accuracy: 0.738704428210366\n",
      "Test accuracy: 0.6645371263259402\n",
      "              precision    recall  f1-score   support\n",
      "\n",
      "           0       0.91      0.68      0.78      7222\n",
      "           1       0.20      0.53      0.29      1074\n",
      "\n",
      "   micro avg       0.66      0.66      0.66      8296\n",
      "   macro avg       0.55      0.61      0.53      8296\n",
      "weighted avg       0.82      0.66      0.72      8296\n",
      "\n",
      "{'criterion': 'gini', 'max_depth': 11, 'min_samples_leaf': 20}\n"
     ]
    }
   ],
   "source": [
    "# grid search CV #1.3\n",
    "\n",
    "params = {'criterion': ['gini', 'entropy'],\n",
    "          'max_depth': range(8, 12),\n",
    "          'min_samples_leaf': range(20, 60, 10)}\n",
    "\n",
    "cv = GridSearchCV(param_grid=params, estimator=DecisionTreeClassifier(random_state=rs), cv=10)\n",
    "cv.fit(X_resampled, y_resampled)\n",
    "\n",
    "print(\"Train accuracy:\", cv.score(X_resampled, y_resampled))\n",
    "print(\"Test accuracy:\", cv.score(X_test, y_test))\n",
    "\n",
    "# test the best model\n",
    "y_pred2 = cv.predict(X_test)\n",
    "print(classification_report(y_test, y_pred2))\n",
    "\n",
    "# print parameters of the best model\n",
    "print(cv.best_params_)"
   ]
  },
  {
   "cell_type": "code",
   "execution_count": 28,
   "metadata": {},
   "outputs": [
    {
     "name": "stdout",
     "output_type": "stream",
     "text": [
      "Train accuracy: 0.6439774261676419\n",
      "Test accuracy: 0.5804001928640309\n",
      "              precision    recall  f1-score   support\n",
      "\n",
      "           0       0.92      0.57      0.70      7222\n",
      "           1       0.18      0.66      0.29      1074\n",
      "\n",
      "   micro avg       0.58      0.58      0.58      8296\n",
      "   macro avg       0.55      0.61      0.50      8296\n",
      "weighted avg       0.82      0.58      0.65      8296\n",
      "\n",
      "{'criterion': 'gini', 'max_depth': 5, 'min_samples_leaf': 28}\n"
     ]
    }
   ],
   "source": [
    "# grid search CV #2.1\n",
    "\n",
    "params = {'criterion': ['gini', 'entropy'],\n",
    "          'max_depth': range(2, 6),\n",
    "          'min_samples_leaf': range(25, 36)}\n",
    "\n",
    "cv = GridSearchCV(param_grid=params, estimator=DecisionTreeClassifier(random_state=rs), cv=10)\n",
    "cv.fit(X_resampled, y_resampled)\n",
    "\n",
    "print(\"Train accuracy:\", cv.score(X_resampled, y_resampled))\n",
    "print(\"Test accuracy:\", cv.score(X_test, y_test))\n",
    "\n",
    "# test the best model\n",
    "y_pred2 = cv.predict(X_test)\n",
    "print(classification_report(y_test, y_pred2))\n",
    "\n",
    "# print parameters of the best model\n",
    "print(cv.best_params_)"
   ]
  },
  {
   "cell_type": "code",
   "execution_count": 29,
   "metadata": {},
   "outputs": [
    {
     "name": "stdout",
     "output_type": "stream",
     "text": [
      "Train accuracy: 0.7413357338226638\n",
      "Test accuracy: 0.6614030858244937\n",
      "              precision    recall  f1-score   support\n",
      "\n",
      "           0       0.91      0.68      0.78      7222\n",
      "           1       0.20      0.53      0.29      1074\n",
      "\n",
      "   micro avg       0.66      0.66      0.66      8296\n",
      "   macro avg       0.55      0.61      0.53      8296\n",
      "weighted avg       0.82      0.66      0.71      8296\n",
      "\n",
      "{'criterion': 'gini', 'max_depth': 11, 'min_samples_leaf': 15}\n"
     ]
    }
   ],
   "source": [
    "# grid search CV #2.2\n",
    "\n",
    "params = {'criterion': ['gini', 'entropy'],\n",
    "          'max_depth': range(8, 12),\n",
    "          'min_samples_leaf': range(15, 26)}\n",
    "\n",
    "cv = GridSearchCV(param_grid=params, estimator=DecisionTreeClassifier(random_state=rs), cv=10)\n",
    "cv.fit(X_resampled, y_resampled)\n",
    "\n",
    "print(\"Train accuracy:\", cv.score(X_resampled, y_resampled))\n",
    "print(\"Test accuracy:\", cv.score(X_test, y_test))\n",
    "\n",
    "# test the best model\n",
    "y_pred2 = cv.predict(X_test)\n",
    "print(classification_report(y_test, y_pred2))\n",
    "\n",
    "# print parameters of the best model\n",
    "print(cv.best_params_)"
   ]
  },
  {
   "cell_type": "code",
   "execution_count": 30,
   "metadata": {},
   "outputs": [
    {
     "name": "stdout",
     "output_type": "stream",
     "text": [
      "Train accuracy: 0.6439774261676419\n",
      "Test accuracy: 0.5804001928640309\n",
      "              precision    recall  f1-score   support\n",
      "\n",
      "           0       0.92      0.57      0.70      7222\n",
      "           1       0.18      0.66      0.29      1074\n",
      "\n",
      "   micro avg       0.58      0.58      0.58      8296\n",
      "   macro avg       0.55      0.61      0.50      8296\n",
      "weighted avg       0.82      0.58      0.65      8296\n",
      "\n",
      "Number of Nodes: 63\n",
      "Number of Leaves 32\n",
      "---------------------\n",
      "VehYear : 0.3605598483300544\n",
      "VehBCost : 0.18342675483982754\n",
      "WheelType_Alloy : 0.16540385065936408\n",
      "Auction_MANHEIM : 0.09603297774823076\n",
      "WheelType_Covers : 0.04883965571221068\n",
      "WarrantyCost : 0.03634483153692984\n",
      "MMRCurrentAuctionAveragePrice : 0.026876438800483182\n",
      "Make_CHRYSLER : 0.012347996464552704\n",
      "MMRCurrentAuctionCleanPrice : 0.012202946080165327\n",
      "MMRAcquisitonRetailCleanPrice : 0.011861693995047256\n",
      "TopThreeAmericanName_GM : 0.009714636977455934\n",
      "MMRAcquisitionAuctionCleanPrice : 0.008188682596664007\n",
      "VNST_OK : 0.008088040291975346\n",
      "Make_SATURN : 0.007793534619807332\n",
      "MMRCurrentRetailAveragePrice : 0.007548832768513991\n",
      "MMRAcquisitionAuctionAveragePrice : 0.0047692785787176095\n",
      "Color_GREY : 0.0\n",
      "Make_VOLVO : 0.0\n",
      "Make_OLDSMOBILE : 0.0\n",
      "Make_PONTIAC : 0.0\n"
     ]
    }
   ],
   "source": [
    "#retrain with settings sellected from Grid SearchCV\n",
    "\n",
    "model = DecisionTreeClassifier(criterion='gini', max_depth=5, min_samples_leaf=28, random_state=rs)\n",
    "model.fit(X_resampled, y_resampled)\n",
    "\n",
    "print(\"Train accuracy:\", model.score(X_resampled, y_resampled))\n",
    "print(\"Test accuracy:\", model.score(X_test, y_test))\n",
    "\n",
    "y_pred2 = model.predict(X_test)\n",
    "print(classification_report(y_test, y_pred2))\n",
    "\n",
    "print(\"Number of Nodes:\", model.tree_.node_count)\n",
    "leave_id = model.apply(X_resampled)\n",
    "leave_id = np.unique(leave_id)\n",
    "print(\"Number of Leaves\", len(leave_id))\n",
    "\n",
    "print('---------------------')\n",
    "# grab feature importance from the model and feature name from the original X\n",
    "importances = model.feature_importances_\n",
    "feature_names = X.columns\n",
    "\n",
    "# sort them out in descending order\n",
    "indices = np.argsort(importances)\n",
    "indices = np.flip(indices, axis=0)\n",
    "\n",
    "# limit to 20 features, you can leave this out to print out everything\n",
    "indices = indices[:20]\n",
    "\n",
    "for i in indices:\n",
    "    print(feature_names[i], ':', importances[i])\n",
    "\n",
    "# visualize\n",
    "dotfile = StringIO()\n",
    "export_graphviz(model, out_file=dotfile, feature_names=X.columns)\n",
    "graph = pydot.graph_from_dot_data(dotfile.getvalue())\n",
    "graph[0].write_png(\"OversampledTree_GSCV.png\") # saved in the following file"
   ]
  },
  {
   "cell_type": "code",
   "execution_count": 31,
   "metadata": {
    "scrolled": true
   },
   "outputs": [
    {
     "name": "stdout",
     "output_type": "stream",
     "text": [
      "VehYear : 0.13993913036080477\n",
      "VehBCost : 0.12791109262362857\n",
      "MMRCurrentAuctionCleanPrice : 0.06779168641314068\n",
      "MMRCurrentAuctionAveragePrice : 0.06534963217656668\n",
      "WheelType_Alloy : 0.06238796348653678\n",
      "MMRAcquisitionRetailAveragePrice : 0.0572686984888536\n",
      "MMRAcquisitonRetailCleanPrice : 0.05486935124043703\n",
      "MMRCurrentRetailAveragePrice : 0.04796788403048691\n",
      "MMRAcquisitionAuctionCleanPrice : 0.04426718814911049\n",
      "WarrantyCost : 0.043560230075677074\n",
      "MMRCurrentRetailCleanPrice : 0.04020332678391406\n",
      "MMRAcquisitionAuctionAveragePrice : 0.03868440416377093\n",
      "Auction_MANHEIM : 0.037568194513510025\n",
      "WheelType_Covers : 0.01799837622225871\n",
      "VNST_NC : 0.009444140361088054\n",
      "Make_CHRYSLER : 0.00904900664684796\n",
      "VNST_TX : 0.008956064849884671\n",
      "TopThreeAmericanName_GM : 0.008889061793859497\n",
      "VNST_OK : 0.008589736773800441\n",
      "Make_DODGE : 0.0068905401073559415\n"
     ]
    }
   ],
   "source": [
    "# do the feature importance and visualization analysis on GridSearchCV's best model\n",
    "from dm_tools_OptTree import analyse_feature_importance, visualize_decision_tree\n",
    "\n",
    "analyse_feature_importance(cv.best_estimator_, X.columns, 20)\n",
    "visualize_decision_tree(cv.best_estimator_, X.columns, \"optimal_tree_Oversampled.png\")"
   ]
  }
 ],
 "metadata": {
  "kernelspec": {
   "display_name": "Python 3",
   "language": "python",
   "name": "python3"
  },
  "language_info": {
   "codemirror_mode": {
    "name": "ipython",
    "version": 3
   },
   "file_extension": ".py",
   "mimetype": "text/x-python",
   "name": "python",
   "nbconvert_exporter": "python",
   "pygments_lexer": "ipython3",
   "version": "3.7.1"
  }
 },
 "nbformat": 4,
 "nbformat_minor": 2
}
